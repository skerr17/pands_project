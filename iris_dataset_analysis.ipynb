{
 "cells": [
  {
   "cell_type": "markdown",
   "id": "37b267c5",
   "metadata": {},
   "source": [
    "# **Iris Dataset Analysis**\n",
    "\n",
    "### Authored by: Stephen Kerr\n",
    "\n",
    "---"
   ]
  },
  {
   "cell_type": "markdown",
   "id": "b2e2467e",
   "metadata": {},
   "source": [
    "## **Iris Dataset Introduction**\n",
    "\n",
    "The **Iris Dataset** is a famous classix multi-class classification dataset, which contains **$150$ samples** of Iris flowers from three species: **Setosa**, **Versicolor**, and **Virginica**.   \n",
    "Each sample includes four features: **Sepal length** (in cm), **Sepal width** (in cm), **Petal length** (in cm), **Petal width** (in cm)\n",
    "\n",
    "The raw data can be seen in [iris.data](https://github.com/skerr17/pands_project/blob/main/inputs/iris.data) which was sourced from [UCI Machine Learning Repository - Iris Dataset](https://archive.ics.uci.edu/dataset/53/iris). \n",
    "\n",
    "The Image below illustrates the Three Iris Flower Species and their anatomy (Image sourced from [here](https://www.analyticsvidhya.com/blog/2022/06/iris-flowers-classification-using-machine-learning/)).\n",
    "\n",
    "![iris flower image](https://github.com/skerr17/pands_project/blob/main/iris_species_image.png) \n",
    "\n",
    "---"
   ]
  },
  {
   "cell_type": "markdown",
   "id": "9b749716",
   "metadata": {},
   "source": [
    "## Exploring the Iris Dataset\n",
    "\n",
    "Following doing some research on the Iris Dataset I conducted some initial exploration of the data in the [iris.data](https://github.com/skerr17/pands_project/blob/main/inputs/iris.data). \n",
    "\n",
    "The function `generate_descriptive_statistics()` found in [analysis_code.py](https://github.com/skerr17/pands_project/blob/main/analysis_code.py)"
   ]
  }
 ],
 "metadata": {
  "language_info": {
   "name": "python"
  }
 },
 "nbformat": 4,
 "nbformat_minor": 5
}
