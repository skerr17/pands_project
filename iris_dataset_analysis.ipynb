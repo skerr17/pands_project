{
 "cells": [
  {
   "cell_type": "markdown",
   "id": "37b267c5",
   "metadata": {},
   "source": [
    "# **Iris Dataset Analysis**\n",
    "\n",
    "### Authored by: Stephen Kerr\n",
    "\n",
    "---"
   ]
  },
  {
   "cell_type": "markdown",
   "id": "b2e2467e",
   "metadata": {},
   "source": [
    "## **Iris Dataset Introduction**\n",
    "\n",
    "The **Iris Dataset** is a famous classix multi-class classification dataset, which contains **$150$ samples** of Iris flowers from three species: **Setosa**, **Versicolor**, and **Virginica**.   \n",
    "Each sample includes four features: **Sepal length** (in cm), **Sepal width** (in cm), **Petal length** (in cm), **Petal width** (in cm)\n",
    "\n",
    "The raw data can be seen in **Inputs** folder in [iris.data](https://github.com/skerr17/pands_project/blob/main/inputs/iris.data) which was sourced from [UCI Machine Learning Repository - Iris Dataset](https://archive.ics.uci.edu/dataset/53/iris). \n",
    "\n",
    "The Image below illustrates the Three Iris Flower Species and their anatomy (Image sourced from [here](https://www.analyticsvidhya.com/blog/2022/06/iris-flowers-classification-using-machine-learning/)).\n",
    "\n",
    "![iris flower image](iris_species_image.png) \n",
    "\n",
    "---"
   ]
  },
  {
   "cell_type": "markdown",
   "id": "9b749716",
   "metadata": {},
   "source": [
    "## **Exploring the Iris Dataset**\n",
    "\n",
    "Following doing some research on the Iris Dataset I conducted some initial exploration of the data in the [iris.data](https://github.com/skerr17/pands_project/blob/main/inputs/iris.data). \n",
    "\n",
    "The function `generate_descriptive_statistics()` found in [analysis_code.py](https://github.com/skerr17/pands_project/blob/main/analysis_code.py), generates the descriptive statistics for the global Iris Dataset and by species (`global_descriptive_stats` and `stats_by_species`).  \n",
    "\n",
    "`generate_descriptive_statistics()` calculates the Count, Mean, Standard Deviation, Minimum, 25th Percentile, Median, 75th Percentile, and Maximum for all $n=150$ Iris samples. \n",
    "\n",
    "Whereas, `stats_by_species` calculates the Count, Mean, Standard Deviation, Minimum, 25th Percentile, Median, 75th Percentile, and Maximum for each **Species** of Iris. Using the `groupby('Species')` to subset the dataset based upon each Samples species (**Setosa**, **Versicolor**, and **Virginica**) each having a sample size of $n=50$.\n",
    "\n",
    "Finally, saving all the Descriptive Statistics in a Tabular format in a `Text` file titled **[iris_descriptive_stats.txt](outputs/iris_descriptive_stats.txt)** in the **Outputs Folder**.\n",
    "\n",
    "### Insights / Observations: \n",
    "#### Key insights from the **Global Descriptive Statistics** are the following:\n",
    "-  The **Petal Length & Width** are more variable than the **Sepal Length & Width**, suggesting they might have more predictive power for classification (will return to this point to validate).\n",
    "- **Sepal Width** is the most consistent feature across all the species with a standard deviation of 0.43cm.\n",
    "- **Petal Length** has the highest variability with a standard deviation of 1.77cm.  \n",
    "\n",
    "Overall, the **global statistics** show that sepal dimensions tend to be larger than petal dimensions. Specifically, sepal length has a mean of 5.84 cm and sepal width a mean of 3.05 cm, compared to petal length with a mean of 3.76 cm and petal width with 1.20 cm.\n",
    "\n",
    "#### Key insights from the **Descriptive Statistics per Species** are the following:\n",
    "- **Setosa** is the smallest in overall measurements and has low variability. Making it the easiest to classify from the others.\n",
    "- **Versicolor** is the intermediate in terms of feature values with more variability than **Setosa** and commonly overlapping with **Virginica** which means it is harder to classify.\n",
    "- **Virginica** is the largest Sepal and Petal dimensions with the highest within species variation.\n",
    "\n",
    "As suggested in the **Global Descriptive Statistics** the **Petal Length & Width** is the most effective feature for distinguishing species, while **Sepal Width** being the hardest to classify the species."
   ]
  },
  {
   "cell_type": "code",
   "execution_count": 3,
   "id": "4100f383",
   "metadata": {},
   "outputs": [
    {
     "ename": "NameError",
     "evalue": "name 'Pathlib' is not defined",
     "output_type": "error",
     "traceback": [
      "\u001b[31m---------------------------------------------------------------------------\u001b[39m",
      "\u001b[31mNameError\u001b[39m                                 Traceback (most recent call last)",
      "\u001b[36mCell\u001b[39m\u001b[36m \u001b[39m\u001b[32mIn[3]\u001b[39m\u001b[32m, line 5\u001b[39m\n\u001b[32m      2\u001b[39m \u001b[38;5;28;01mimport\u001b[39;00m\u001b[38;5;250m \u001b[39m\u001b[34;01manalysis_code\u001b[39;00m\n\u001b[32m      4\u001b[39m \u001b[38;5;66;03m# create a directory for the output files\u001b[39;00m\n\u001b[32m----> \u001b[39m\u001b[32m5\u001b[39m output_dir = \u001b[43mPathlib\u001b[49m(\u001b[33m'\u001b[39m\u001b[33moutputs\u001b[39m\u001b[33m'\u001b[39m)\n\u001b[32m      6\u001b[39m output_dir.mkdir(parents=\u001b[38;5;28;01mTrue\u001b[39;00m, exist_ok=\u001b[38;5;28;01mTrue\u001b[39;00m) \u001b[38;5;66;03m# Create the directory if it doesn't exist\u001b[39;00m\n\u001b[32m      8\u001b[39m \u001b[38;5;66;03m# Read the data from the iris.data file\u001b[39;00m\n",
      "\u001b[31mNameError\u001b[39m: name 'Pathlib' is not defined"
     ]
    }
   ],
   "source": [
    "# in this code cell i want to have the tables generated and displayed nicely\n",
    "import analysis_code\n",
    "\n",
    "# create a directory for the output files\n",
    "output_dir = Pathlib('outputs')\n",
    "output_dir.mkdir(parents=True, exist_ok=True) # Create the directory if it doesn't exist\n",
    "\n",
    "# Read the data from the iris.data file\n",
    "raw_data_dir = Path('inputs') # Path to the iris data file\n",
    "raw_data_dir.mkdir(parents=True, exist_ok=True) # Create the directory if it doesn't exist\n",
    "data_path = raw_data_dir / 'iris.data' # Path to the iris data file\n",
    "# Check if the file exists\n",
    "if data_path.exists():\n",
    "    # Read the data into a pandas dataframe # Reference: https://pandas.pydata.org/pandas-docs/stable/reference/api/pandas.read_csv.html\n",
    "    # Add column names to the dataframe from the iris documentation # Reference: https://archive.ics.uci.edu/dataset/53/iris\n",
    "    iris_data = pd.read_csv(data_path, header=None, usecols=[0, 1, 2, 3, 4], \n",
    "                names=['sepal_length', 'sepal_width', 'petal_length', 'petal_width', 'species'])\n",
    "else:\n",
    "    print(f\"Error: The file {data_path} does not exist.\")\n",
    "    return\n",
    "\n",
    "    # prepare the data for plotting\n",
    "    variables, variables_titles, species, format_species, colors, labels = prepare_data(iris_data)\n",
    "\n",
    "global_descriptive_stats, stats_by_species = generate_descriptive_statistics(iris_data, output_dir, variables_titles, species, format_species)"
   ]
  },
  {
   "cell_type": "markdown",
   "id": "8eb5ba90",
   "metadata": {},
   "source": [
    "---\n",
    "\n",
    "## **Visualise the Features**\n",
    "\n",
    "After conducting the descriptive analysis I went about visulasing the Iris dataset Features and their relationships. \n",
    "- First with **Histograms** for each feature using **Matplotlib's** `hist()` method (see documentation [here](https://matplotlib.org/stable/api/_as_gen/matplotlib.pyplot.hist.html)).\n",
    "- **Scatter Plots** for each feature using **Matplotlib's** `scatter()` method (see documentation [here](https://matplotlib.org/stable/api/_as_gen/matplotlib.pyplot.scatter.html)).\n",
    "- **Pairs Plot** for each feature and their relationship with eachother using **Seaborn's** `pairplot()` function (see documentation [here](https://seaborn.pydata.org/generated/seaborn.pairplot.html)),\n",
    "- Finally, a **Heatmap** of the of the  **Pearson Correlation Coefficient** calculated using **`.corr()`** a method from **Pandas** (see `.corr()` method documentation [here](https://pandas.pydata.org/pandas-docs/stable/reference/api/pandas.DataFrame.corr.html)) and visulaised using **Seaborn's** `heatmap()` function (see documentation [here](https://seaborn.pydata.org/generated/seaborn.heatmap.html)),"
   ]
  },
  {
   "cell_type": "markdown",
   "id": "ba375228",
   "metadata": {},
   "source": [
    "### **Histograms of the Features**\n",
    "\n",
    "Histograms are used to display the distribution of numerical features within a dataset by showing the frequency of observations within defined intervals or 'bins'. \n",
    "\n",
    "The function `plot_histograms()` found in [analysis_code.py](https://github.com/skerr17/pands_project/blob/main/analysis_code.py), generates the a Histograms for each variable with the different species colour coded to individual `.png` files titled `{variable}_histogram.png` in the **[Outputs Folder](/workspaces/pands_project/outputs)**.\n",
    "\n",
    "See all the Histograms linked here:\n",
    "- [petal_length_histogram.png](/workspaces/pands_project/outputs/petal_length_histogram.png)\n",
    "- [petal_width_histogram.png](/workspaces/pands_project/outputs/petal_width_histogram.png)\n",
    "- [sepal_length_histogram.png](/workspaces/pands_project/outputs/sepal_length_histogram.png)\n",
    "- [sepal_width_histogram.png](/workspaces/pands_project/outputs/sepal_width_histogram.png)\n",
    "\n",
    "#### Insights / Observations: \n",
    "For the Iris dataset, plotting histograms for each feature helps reveal the spread of the data across each species. For example, the [petal_length_histogram.png](/workspaces/pands_project/outputs/petal_length_histogram.png) clearly shows the difference between the species with the **Setosa** distinctly separated from **Versicolor** and **Virginica**. Therefore, for classification the **Petal Length** is useful feature. Note, see the below Histogram.\n",
    "\n",
    "<img src=\"outputs/petal_length_histogram.png\" alt=\"Petal Length Histogram\" style=\"width:400px; height:auto;\">\n",
    "\n",
    "\n",
    "\n",
    "The Histogram also aid in spotting skewness or outliers that could influence modeling decisions. Notably, the [sepal_width_histogram.png](/workspaces/pands_project/outputs/sepal_width_histogram.png) being less effective is visualised by the overlap between the species. See the below Histogram.  /workspaces/pands_project/outputs/sepal_width_histogram.png\n",
    "\n",
    "<img src=\"outputs/sepal_width_histogram.png\" alt=\"Sepal Width Histogram\" style=\"width:400px; height:auto;\">\n",
    "\n",
    "Reference: see this stack overflow thread to understand how I resized my Histograms linked [here](https://stackoverflow.com/questions/41598916/resize-the-image-in-jupyter-notebook-using-markdown)"
   ]
  }
 ],
 "metadata": {
  "kernelspec": {
   "display_name": "Python 3",
   "language": "python",
   "name": "python3"
  },
  "language_info": {
   "codemirror_mode": {
    "name": "ipython",
    "version": 3
   },
   "file_extension": ".py",
   "mimetype": "text/x-python",
   "name": "python",
   "nbconvert_exporter": "python",
   "pygments_lexer": "ipython3",
   "version": "3.11.11"
  }
 },
 "nbformat": 4,
 "nbformat_minor": 5
}
